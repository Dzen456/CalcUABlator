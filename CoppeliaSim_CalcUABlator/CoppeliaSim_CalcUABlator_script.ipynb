{
 "cells": [
  {
   "cell_type": "markdown",
   "metadata": {},
   "source": [
    "# CoppeliaSim - CalcUABlator"
   ]
  },
  {
   "cell_type": "markdown",
   "metadata": {},
   "source": [
    "## Import libraries:"
   ]
  },
  {
   "cell_type": "code",
   "execution_count": 1,
   "metadata": {},
   "outputs": [],
   "source": [
    "import sim\n",
    "import numpy as np"
   ]
  },
  {
   "cell_type": "markdown",
   "metadata": {},
   "source": [
    "## Establish the connection:"
   ]
  },
  {
   "cell_type": "code",
   "execution_count": 2,
   "metadata": {},
   "outputs": [],
   "source": [
    "def connect(port):\n",
    "# Establishes the connection to COPPELIA\n",
    "# The port must match the connection port in COPPELIA -- PRESS PLAY in Coppelia Scene!!!\n",
    "# returns the client number or -1 if the connection cannot be established\n",
    "    sim.simxFinish(-1) # just in case, close all opened connections\n",
    "    clientID=sim.simxStart('127.0.0.1',port,True,True,2000,5) # Conectarse\n",
    "    if clientID == 0: print(\"connect to \", port)\n",
    "    else: print(\"Can not connect \")\n",
    "    return clientID"
   ]
  },
  {
   "cell_type": "code",
   "execution_count": 3,
   "metadata": {},
   "outputs": [
    {
     "name": "stdout",
     "output_type": "stream",
     "text": [
      "connect to  19999\n"
     ]
    }
   ],
   "source": [
    "# Connect to the COPPELIA server\n",
    "# *** It must be executed every time the simulation is restarted ***\n",
    "# Remember press PLAY before in coppelia scene\n",
    "clientID = connect(19999)"
   ]
  },
  {
   "cell_type": "markdown",
   "metadata": {},
   "source": [
    "<h3> We get the handlers: </h3>\n",
    "A handler is an identifier number that Coppelia assigns to each of the elements in the scene."
   ]
  },
  {
   "cell_type": "code",
   "execution_count": 4,
   "metadata": {},
   "outputs": [
    {
     "name": "stdout",
     "output_type": "stream",
     "text": [
      "17 19 21\n"
     ]
    }
   ],
   "source": [
    "# We obtain the controllers for each of the robot's joints (Called joint1 and joint2 in the scenne)\n",
    "ret,joint1=sim.simxGetObjectHandle(clientID,'Joint_DC1',sim.simx_opmode_blocking) # DC1\n",
    "ret,joint2=sim.simxGetObjectHandle(clientID,'Joint_DC2',sim.simx_opmode_blocking) # DC2\n",
    "ret,joint3=sim.simxGetObjectHandle(clientID,'Joint_ServoMotor',sim.simx_opmode_blocking) # Servomotor\n",
    "print(joint1, joint2, joint3) # Position of the joints"
   ]
  },
  {
   "cell_type": "code",
   "execution_count": 5,
   "metadata": {},
   "outputs": [
    {
     "name": "stdout",
     "output_type": "stream",
     "text": [
      "1\n"
     ]
    }
   ],
   "source": [
    "# we send the position of joint1 (-30º), in radians.\n",
    "q1 = -30 * np.pi/180\n",
    "returnCode = sim.simxSetJointTargetPosition(clientID, joint1, q1, sim.simx_opmode_oneshot)\n",
    "print(returnCode)"
   ]
  },
  {
   "cell_type": "code",
   "execution_count": 6,
   "metadata": {},
   "outputs": [
    {
     "name": "stdout",
     "output_type": "stream",
     "text": [
      "1\n"
     ]
    }
   ],
   "source": [
    "# we send the position of joint2 (30º), in radians.\n",
    "q2 = 30 * np.pi/180\n",
    "returnCode = sim.simxSetJointTargetPosition(clientID, joint2, q2, sim.simx_opmode_oneshot)\n",
    "print(returnCode)"
   ]
  },
  {
   "cell_type": "code",
   "execution_count": 7,
   "metadata": {},
   "outputs": [
    {
     "name": "stdout",
     "output_type": "stream",
     "text": [
      "1\n"
     ]
    }
   ],
   "source": [
    "# we send the position of joint2 (30º), in radians.\n",
    "q3 = 30 * np.pi/180\n",
    "returnCode = sim.simxSetJointTargetPosition(clientID, joint3, q3, sim.simx_opmode_oneshot)\n",
    "print(returnCode)"
   ]
  }
 ],
 "metadata": {
  "kernelspec": {
   "display_name": "Python 3 (ipykernel)",
   "language": "python",
   "name": "python3"
  },
  "language_info": {
   "codemirror_mode": {
    "name": "ipython",
    "version": 3
   },
   "file_extension": ".py",
   "mimetype": "text/x-python",
   "name": "python",
   "nbconvert_exporter": "python",
   "pygments_lexer": "ipython3",
   "version": "3.13.1"
  }
 },
 "nbformat": 4,
 "nbformat_minor": 4
}
